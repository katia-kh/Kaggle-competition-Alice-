{
 "cells": [
  {
   "cell_type": "code",
   "execution_count": 1,
   "metadata": {
    "_cell_guid": "b1076dfc-b9ad-4769-8c92-a6c4dae69d19",
    "_uuid": "8f2839f25d086af736a60e9eeb907d3b93b6e0e5",
    "execution": {
     "iopub.execute_input": "2021-01-27T18:14:48.353449Z",
     "iopub.status.busy": "2021-01-27T18:14:48.352439Z",
     "iopub.status.idle": "2021-01-27T18:14:48.357970Z",
     "shell.execute_reply": "2021-01-27T18:14:48.357295Z"
    },
    "papermill": {
     "duration": 0.049391,
     "end_time": "2021-01-27T18:14:48.358093",
     "exception": false,
     "start_time": "2021-01-27T18:14:48.308702",
     "status": "completed"
    },
    "tags": []
   },
   "outputs": [
    {
     "name": "stdout",
     "output_type": "stream",
     "text": [
      "/kaggle/input/catch-me-if-you-can-intruder-detection-through-webpage-session-tracking2/sample_submission.csv\n",
      "/kaggle/input/catch-me-if-you-can-intruder-detection-through-webpage-session-tracking2/train.zip\n",
      "/kaggle/input/catch-me-if-you-can-intruder-detection-through-webpage-session-tracking2/train_sessions.csv\n",
      "/kaggle/input/catch-me-if-you-can-intruder-detection-through-webpage-session-tracking2/site_dic.pkl\n",
      "/kaggle/input/catch-me-if-you-can-intruder-detection-through-webpage-session-tracking2/test_sessions.csv\n"
     ]
    }
   ],
   "source": [
    "import os\n",
    "for dirname, _, filenames in os.walk('/kaggle/input'):\n",
    "    for filename in filenames:\n",
    "        print(os.path.join(dirname, filename))"
   ]
  },
  {
   "cell_type": "code",
   "execution_count": 2,
   "metadata": {
    "execution": {
     "iopub.execute_input": "2021-01-27T18:14:48.434238Z",
     "iopub.status.busy": "2021-01-27T18:14:48.433182Z",
     "iopub.status.idle": "2021-01-27T18:14:49.872318Z",
     "shell.execute_reply": "2021-01-27T18:14:49.871030Z"
    },
    "papermill": {
     "duration": 1.477937,
     "end_time": "2021-01-27T18:14:49.872455",
     "exception": false,
     "start_time": "2021-01-27T18:14:48.394518",
     "status": "completed"
    },
    "tags": []
   },
   "outputs": [],
   "source": [
    "import warnings\n",
    "warnings.filterwarnings('ignore')\n",
    "\n",
    "import os\n",
    "import pickle\n",
    "from tqdm import tqdm \n",
    "import numpy as np\n",
    "import pandas as pd\n",
    "from matplotlib import pyplot as plt\n",
    "import seaborn as sns\n",
    "from sklearn.model_selection import TimeSeriesSplit, GridSearchCV, cross_val_score\n",
    "from sklearn.feature_extraction.text import CountVectorizer, TfidfVectorizer\n",
    "from sklearn.metrics import roc_auc_score\n",
    "from sklearn.linear_model import LogisticRegression\n",
    "from sklearn.preprocessing import StandardScaler\n",
    "from scipy.sparse import csr_matrix, hstack\n"
   ]
  },
  {
   "cell_type": "code",
   "execution_count": 3,
   "metadata": {
    "execution": {
     "iopub.execute_input": "2021-01-27T18:14:49.951838Z",
     "iopub.status.busy": "2021-01-27T18:14:49.950916Z",
     "iopub.status.idle": "2021-01-27T18:14:49.954516Z",
     "shell.execute_reply": "2021-01-27T18:14:49.953970Z"
    },
    "papermill": {
     "duration": 0.044645,
     "end_time": "2021-01-27T18:14:49.954637",
     "exception": false,
     "start_time": "2021-01-27T18:14:49.909992",
     "status": "completed"
    },
    "tags": []
   },
   "outputs": [],
   "source": [
    "PATH = '/kaggle/input/catch-me-if-you-can-intruder-detection-through-webpage-session-tracking2'\n",
    "SEED = 89"
   ]
  },
  {
   "cell_type": "code",
   "execution_count": 4,
   "metadata": {
    "execution": {
     "iopub.execute_input": "2021-01-27T18:14:50.034809Z",
     "iopub.status.busy": "2021-01-27T18:14:50.034054Z",
     "iopub.status.idle": "2021-01-27T18:14:50.036150Z",
     "shell.execute_reply": "2021-01-27T18:14:50.036607Z"
    },
    "papermill": {
     "duration": 0.045344,
     "end_time": "2021-01-27T18:14:50.036760",
     "exception": false,
     "start_time": "2021-01-27T18:14:49.991416",
     "status": "completed"
    },
    "tags": []
   },
   "outputs": [],
   "source": [
    "def predict_and_submit(estimator, X_train, y_train, X_test, filename):\n",
    "    estimator.fit(X_train, y_train)\n",
    "    y_pred = estimator.predict_proba(X_test)[:, 1]\n",
    "    submission = pd.read_csv(os.path.join(PATH, 'sample_submission.csv'), \n",
    "                             index_col='session_id')\n",
    "    submission['target'] = y_pred\n",
    "    submission.to_csv(filename)"
   ]
  },
  {
   "cell_type": "code",
   "execution_count": 5,
   "metadata": {
    "_cell_guid": "79c7e3d0-c299-4dcb-8224-4455121ee9b0",
    "_uuid": "d629ff2d2480ee46fbb7e2d37f6b5fab8052498a",
    "execution": {
     "iopub.execute_input": "2021-01-27T18:14:50.113293Z",
     "iopub.status.busy": "2021-01-27T18:14:50.112573Z",
     "iopub.status.idle": "2021-01-27T18:14:55.813093Z",
     "shell.execute_reply": "2021-01-27T18:14:55.812431Z"
    },
    "papermill": {
     "duration": 5.740075,
     "end_time": "2021-01-27T18:14:55.813208",
     "exception": false,
     "start_time": "2021-01-27T18:14:50.073133",
     "status": "completed"
    },
    "tags": []
   },
   "outputs": [
    {
     "data": {
      "text/html": [
       "<div>\n",
       "<style scoped>\n",
       "    .dataframe tbody tr th:only-of-type {\n",
       "        vertical-align: middle;\n",
       "    }\n",
       "\n",
       "    .dataframe tbody tr th {\n",
       "        vertical-align: top;\n",
       "    }\n",
       "\n",
       "    .dataframe thead th {\n",
       "        text-align: right;\n",
       "    }\n",
       "</style>\n",
       "<table border=\"1\" class=\"dataframe\">\n",
       "  <thead>\n",
       "    <tr style=\"text-align: right;\">\n",
       "      <th></th>\n",
       "      <th>site1</th>\n",
       "      <th>time1</th>\n",
       "      <th>site2</th>\n",
       "      <th>time2</th>\n",
       "      <th>site3</th>\n",
       "      <th>time3</th>\n",
       "      <th>site4</th>\n",
       "      <th>time4</th>\n",
       "      <th>site5</th>\n",
       "      <th>time5</th>\n",
       "      <th>...</th>\n",
       "      <th>time6</th>\n",
       "      <th>site7</th>\n",
       "      <th>time7</th>\n",
       "      <th>site8</th>\n",
       "      <th>time8</th>\n",
       "      <th>site9</th>\n",
       "      <th>time9</th>\n",
       "      <th>site10</th>\n",
       "      <th>time10</th>\n",
       "      <th>target</th>\n",
       "    </tr>\n",
       "    <tr>\n",
       "      <th>session_id</th>\n",
       "      <th></th>\n",
       "      <th></th>\n",
       "      <th></th>\n",
       "      <th></th>\n",
       "      <th></th>\n",
       "      <th></th>\n",
       "      <th></th>\n",
       "      <th></th>\n",
       "      <th></th>\n",
       "      <th></th>\n",
       "      <th></th>\n",
       "      <th></th>\n",
       "      <th></th>\n",
       "      <th></th>\n",
       "      <th></th>\n",
       "      <th></th>\n",
       "      <th></th>\n",
       "      <th></th>\n",
       "      <th></th>\n",
       "      <th></th>\n",
       "      <th></th>\n",
       "    </tr>\n",
       "  </thead>\n",
       "  <tbody>\n",
       "    <tr>\n",
       "      <th>1</th>\n",
       "      <td>718</td>\n",
       "      <td>2014-02-20 10:02:45</td>\n",
       "      <td>0</td>\n",
       "      <td>NaT</td>\n",
       "      <td>0</td>\n",
       "      <td>NaT</td>\n",
       "      <td>0</td>\n",
       "      <td>NaT</td>\n",
       "      <td>0</td>\n",
       "      <td>NaT</td>\n",
       "      <td>...</td>\n",
       "      <td>NaT</td>\n",
       "      <td>0</td>\n",
       "      <td>NaT</td>\n",
       "      <td>0</td>\n",
       "      <td>NaT</td>\n",
       "      <td>0</td>\n",
       "      <td>NaT</td>\n",
       "      <td>0</td>\n",
       "      <td>NaT</td>\n",
       "      <td>0</td>\n",
       "    </tr>\n",
       "    <tr>\n",
       "      <th>2</th>\n",
       "      <td>890</td>\n",
       "      <td>2014-02-22 11:19:50</td>\n",
       "      <td>941</td>\n",
       "      <td>2014-02-22 11:19:50</td>\n",
       "      <td>3847</td>\n",
       "      <td>2014-02-22 11:19:51</td>\n",
       "      <td>941</td>\n",
       "      <td>2014-02-22 11:19:51</td>\n",
       "      <td>942</td>\n",
       "      <td>2014-02-22 11:19:51</td>\n",
       "      <td>...</td>\n",
       "      <td>2014-02-22 11:19:51</td>\n",
       "      <td>3847</td>\n",
       "      <td>2014-02-22 11:19:52</td>\n",
       "      <td>3846</td>\n",
       "      <td>2014-02-22 11:19:52</td>\n",
       "      <td>1516</td>\n",
       "      <td>2014-02-22 11:20:15</td>\n",
       "      <td>1518</td>\n",
       "      <td>2014-02-22 11:20:16</td>\n",
       "      <td>0</td>\n",
       "    </tr>\n",
       "    <tr>\n",
       "      <th>3</th>\n",
       "      <td>14769</td>\n",
       "      <td>2013-12-16 16:40:17</td>\n",
       "      <td>39</td>\n",
       "      <td>2013-12-16 16:40:18</td>\n",
       "      <td>14768</td>\n",
       "      <td>2013-12-16 16:40:19</td>\n",
       "      <td>14769</td>\n",
       "      <td>2013-12-16 16:40:19</td>\n",
       "      <td>37</td>\n",
       "      <td>2013-12-16 16:40:19</td>\n",
       "      <td>...</td>\n",
       "      <td>2013-12-16 16:40:19</td>\n",
       "      <td>14768</td>\n",
       "      <td>2013-12-16 16:40:20</td>\n",
       "      <td>14768</td>\n",
       "      <td>2013-12-16 16:40:21</td>\n",
       "      <td>14768</td>\n",
       "      <td>2013-12-16 16:40:22</td>\n",
       "      <td>14768</td>\n",
       "      <td>2013-12-16 16:40:24</td>\n",
       "      <td>0</td>\n",
       "    </tr>\n",
       "  </tbody>\n",
       "</table>\n",
       "<p>3 rows × 21 columns</p>\n",
       "</div>"
      ],
      "text/plain": [
       "            site1               time1  site2               time2  site3  \\\n",
       "session_id                                                                \n",
       "1             718 2014-02-20 10:02:45      0                 NaT      0   \n",
       "2             890 2014-02-22 11:19:50    941 2014-02-22 11:19:50   3847   \n",
       "3           14769 2013-12-16 16:40:17     39 2013-12-16 16:40:18  14768   \n",
       "\n",
       "                         time3  site4               time4  site5  \\\n",
       "session_id                                                         \n",
       "1                          NaT      0                 NaT      0   \n",
       "2          2014-02-22 11:19:51    941 2014-02-22 11:19:51    942   \n",
       "3          2013-12-16 16:40:19  14769 2013-12-16 16:40:19     37   \n",
       "\n",
       "                         time5  ...               time6  site7  \\\n",
       "session_id                      ...                              \n",
       "1                          NaT  ...                 NaT      0   \n",
       "2          2014-02-22 11:19:51  ... 2014-02-22 11:19:51   3847   \n",
       "3          2013-12-16 16:40:19  ... 2013-12-16 16:40:19  14768   \n",
       "\n",
       "                         time7  site8               time8  site9  \\\n",
       "session_id                                                         \n",
       "1                          NaT      0                 NaT      0   \n",
       "2          2014-02-22 11:19:52   3846 2014-02-22 11:19:52   1516   \n",
       "3          2013-12-16 16:40:20  14768 2013-12-16 16:40:21  14768   \n",
       "\n",
       "                         time9 site10              time10 target  \n",
       "session_id                                                        \n",
       "1                          NaT      0                 NaT      0  \n",
       "2          2014-02-22 11:20:15   1518 2014-02-22 11:20:16      0  \n",
       "3          2013-12-16 16:40:22  14768 2013-12-16 16:40:24      0  \n",
       "\n",
       "[3 rows x 21 columns]"
      ]
     },
     "execution_count": 5,
     "metadata": {},
     "output_type": "execute_result"
    }
   ],
   "source": [
    "# create lists of similar feature names\n",
    "sites = ['site{}'.format(i) for i in range(1, 11)]\n",
    "times = ['time{}'.format(i) for i in range(1, 11)]\n",
    "\n",
    "train_data = pd.read_csv(os.path.join(PATH, 'train_sessions.csv'),\n",
    "                         index_col='session_id', parse_dates=times)\n",
    "test_data = pd.read_csv(os.path.join(PATH, 'test_sessions.csv'),\n",
    "                        index_col='session_id', parse_dates=times)\n",
    "train_data[sites] = train_data[sites].fillna(0).astype('int')\n",
    "test_data[sites] = test_data[sites].fillna(0).astype('int')\n",
    "\n",
    "# load and invert the site dictionary\n",
    "with open(os.path.join(PATH, 'site_dic.pkl'), 'rb') as file:\n",
    "    sites_encoder = pickle.load(file)\n",
    "sites_encoder['missing_value'] = 0\n",
    "sites_decoder = {site_id:site for (site, site_id) in sites_encoder.items()}\n",
    "\n",
    "train_data.head(3)"
   ]
  },
  {
   "cell_type": "code",
   "execution_count": 6,
   "metadata": {
    "execution": {
     "iopub.execute_input": "2021-01-27T18:14:55.892606Z",
     "iopub.status.busy": "2021-01-27T18:14:55.891643Z",
     "iopub.status.idle": "2021-01-27T18:14:55.922165Z",
     "shell.execute_reply": "2021-01-27T18:14:55.921642Z"
    },
    "papermill": {
     "duration": 0.072271,
     "end_time": "2021-01-27T18:14:55.922283",
     "exception": false,
     "start_time": "2021-01-27T18:14:55.850012",
     "status": "completed"
    },
    "tags": []
   },
   "outputs": [
    {
     "data": {
      "text/plain": [
       "0    0.990941\n",
       "1    0.009059\n",
       "Name: target, dtype: float64"
      ]
     },
     "execution_count": 6,
     "metadata": {},
     "output_type": "execute_result"
    }
   ],
   "source": [
    "train_data['target'].value_counts(normalize=True)  # imbalanced classes"
   ]
  },
  {
   "cell_type": "code",
   "execution_count": 7,
   "metadata": {
    "execution": {
     "iopub.execute_input": "2021-01-27T18:14:56.004410Z",
     "iopub.status.busy": "2021-01-27T18:14:56.003690Z",
     "iopub.status.idle": "2021-01-27T18:14:56.011328Z",
     "shell.execute_reply": "2021-01-27T18:14:56.011813Z"
    },
    "papermill": {
     "duration": 0.051386,
     "end_time": "2021-01-27T18:14:56.011973",
     "exception": false,
     "start_time": "2021-01-27T18:14:55.960587",
     "status": "completed"
    },
    "tags": []
   },
   "outputs": [
    {
     "data": {
      "text/plain": [
       "(Timestamp('2013-01-12 08:05:57'), Timestamp('2014-04-30 23:39:53'))"
      ]
     },
     "execution_count": 7,
     "metadata": {},
     "output_type": "execute_result"
    }
   ],
   "source": [
    "# Time range of training data\n",
    "train_data['time1'].min(), train_data['time1'].max()"
   ]
  },
  {
   "cell_type": "code",
   "execution_count": 8,
   "metadata": {
    "execution": {
     "iopub.execute_input": "2021-01-27T18:14:56.089978Z",
     "iopub.status.busy": "2021-01-27T18:14:56.089250Z",
     "iopub.status.idle": "2021-01-27T18:14:56.095467Z",
     "shell.execute_reply": "2021-01-27T18:14:56.096055Z"
    },
    "papermill": {
     "duration": 0.046755,
     "end_time": "2021-01-27T18:14:56.096194",
     "exception": false,
     "start_time": "2021-01-27T18:14:56.049439",
     "status": "completed"
    },
    "tags": []
   },
   "outputs": [
    {
     "data": {
      "text/plain": [
       "(Timestamp('2014-05-01 17:14:03'), Timestamp('2014-12-05 23:26:53'))"
      ]
     },
     "execution_count": 8,
     "metadata": {},
     "output_type": "execute_result"
    }
   ],
   "source": [
    "# Time range of test data\n",
    "test_data['time1'].min(), test_data['time1'].max()"
   ]
  },
  {
   "cell_type": "markdown",
   "metadata": {
    "papermill": {
     "duration": 0.037564,
     "end_time": "2021-01-27T18:14:56.171544",
     "exception": false,
     "start_time": "2021-01-27T18:14:56.133980",
     "status": "completed"
    },
    "tags": []
   },
   "source": [
    "This means that we will only predict the target feature for future sessions based on past sessions. \n",
    "So let's sort training instances by start time and use TimeSeriesSplit as a cross-validator"
   ]
  },
  {
   "cell_type": "code",
   "execution_count": 9,
   "metadata": {
    "execution": {
     "iopub.execute_input": "2021-01-27T18:14:56.250734Z",
     "iopub.status.busy": "2021-01-27T18:14:56.250088Z",
     "iopub.status.idle": "2021-01-27T18:14:56.363288Z",
     "shell.execute_reply": "2021-01-27T18:14:56.363804Z"
    },
    "papermill": {
     "duration": 0.154639,
     "end_time": "2021-01-27T18:14:56.363962",
     "exception": false,
     "start_time": "2021-01-27T18:14:56.209323",
     "status": "completed"
    },
    "tags": []
   },
   "outputs": [],
   "source": [
    "train_data = train_data.sort_values(by='time1')\n",
    "y_train = train_data['target']\n",
    "alice_idx = train_data[train_data['target'] == 1].index\n",
    "others_idx = train_data[train_data['target'] == 0].index"
   ]
  },
  {
   "cell_type": "code",
   "execution_count": 10,
   "metadata": {
    "execution": {
     "iopub.execute_input": "2021-01-27T18:14:56.443387Z",
     "iopub.status.busy": "2021-01-27T18:14:56.442748Z",
     "iopub.status.idle": "2021-01-27T18:14:56.972484Z",
     "shell.execute_reply": "2021-01-27T18:14:56.971819Z"
    },
    "papermill": {
     "duration": 0.570512,
     "end_time": "2021-01-27T18:14:56.972597",
     "exception": false,
     "start_time": "2021-01-27T18:14:56.402085",
     "status": "completed"
    },
    "tags": []
   },
   "outputs": [
    {
     "data": {
      "image/png": "[encoded data removed]",
      "text/plain": [
       "<Figure size 864x288 with 2 Axes>"
      ]
     },
     "metadata": {
      "needs_background": "light"
     },
     "output_type": "display_data"
    }
   ],
   "source": [
    "# check proportion of classes in each split of the cross-validator\n",
    "# for 10 and 5 splits:\n",
    "\n",
    "_, axes = plt.subplots(1, 2, figsize=(12, 4))\n",
    "for (ax, n) in enumerate([10, 5]):\n",
    "    tscv = TimeSeriesSplit(n_splits=n)\n",
    "    idx_cv_split = [i for i in tscv.split(train_data)]\n",
    "    train_data['split_n'] = 0\n",
    "    for i, (train_idx, valid_idx) in enumerate(idx_cv_split, 1):\n",
    "        train_data['split_n'].iloc[valid_idx] = i\n",
    "    sns.countplot('split_n', hue='target', data=train_data, \n",
    "                  dodge=False, ax=axes[ax]);"
   ]
  },
  {
   "cell_type": "markdown",
   "metadata": {
    "papermill": {
     "duration": 0.039151,
     "end_time": "2021-01-27T18:14:57.051288",
     "exception": false,
     "start_time": "2021-01-27T18:14:57.012137",
     "status": "completed"
    },
    "tags": []
   },
   "source": [
    "The proportions of classes in each split are more uniform with 5 splits than with 10, so let's use 5 split in cross-validation"
   ]
  },
  {
   "cell_type": "code",
   "execution_count": 11,
   "metadata": {
    "execution": {
     "iopub.execute_input": "2021-01-27T18:14:57.137553Z",
     "iopub.status.busy": "2021-01-27T18:14:57.136600Z",
     "iopub.status.idle": "2021-01-27T18:14:57.139559Z",
     "shell.execute_reply": "2021-01-27T18:14:57.138972Z"
    },
    "papermill": {
     "duration": 0.048752,
     "end_time": "2021-01-27T18:14:57.139681",
     "exception": false,
     "start_time": "2021-01-27T18:14:57.090929",
     "status": "completed"
    },
    "tags": []
   },
   "outputs": [],
   "source": [
    "def get_cv_scores(X, y, C=1, n_splits=5):\n",
    "    \n",
    "    tscv = TimeSeriesSplit(n_splits=n_splits)\n",
    "    logit = LogisticRegression(C=C, solver='liblinear', random_state=SEED)\n",
    "    cv_scores = cross_val_score(logit, X, y, scoring='roc_auc', n_jobs=-1,\n",
    "                                cv=tscv)\n",
    "    return cv_scores"
   ]
  },
  {
   "cell_type": "markdown",
   "metadata": {
    "papermill": {
     "duration": 0.03904,
     "end_time": "2021-01-27T18:14:57.218012",
     "exception": false,
     "start_time": "2021-01-27T18:14:57.178972",
     "status": "completed"
    },
    "tags": []
   },
   "source": [
    "## Sites features"
   ]
  },
  {
   "cell_type": "markdown",
   "metadata": {
    "papermill": {
     "duration": 0.038958,
     "end_time": "2021-01-27T18:14:57.296327",
     "exception": false,
     "start_time": "2021-01-27T18:14:57.257369",
     "status": "completed"
    },
    "tags": []
   },
   "source": [
    "Use \"bag of words\" method taking one site as one word and sessions as sentences of words"
   ]
  },
  {
   "cell_type": "markdown",
   "metadata": {
    "papermill": {
     "duration": 0.038882,
     "end_time": "2021-01-27T18:14:57.374569",
     "exception": false,
     "start_time": "2021-01-27T18:14:57.335687",
     "status": "completed"
    },
    "tags": []
   },
   "source": [
    "### CountVectorizer"
   ]
  },
  {
   "cell_type": "code",
   "execution_count": 12,
   "metadata": {
    "execution": {
     "iopub.execute_input": "2021-01-27T18:14:57.465562Z",
     "iopub.status.busy": "2021-01-27T18:14:57.464906Z",
     "iopub.status.idle": "2021-01-27T18:15:02.514904Z",
     "shell.execute_reply": "2021-01-27T18:15:02.514322Z"
    },
    "papermill": {
     "duration": 5.100987,
     "end_time": "2021-01-27T18:15:02.515020",
     "exception": false,
     "start_time": "2021-01-27T18:14:57.414033",
     "status": "completed"
    },
    "tags": []
   },
   "outputs": [],
   "source": [
    "# transform sessions rows to strings containing site IDs separated by space\n",
    "train_sessions_ids = train_data[sites].apply(\n",
    "    lambda row: ' '.join([str(i) for i in row if i != 0]), \n",
    "    axis=1).to_list()\n",
    "test_sessions_ids = test_data[sites].apply(\n",
    "    lambda row: ' '.join([str(i) for i in row if i != 0]), \n",
    "    axis=1).to_list()"
   ]
  },
  {
   "cell_type": "code",
   "execution_count": 13,
   "metadata": {
    "execution": {
     "iopub.execute_input": "2021-01-27T18:15:02.598317Z",
     "iopub.status.busy": "2021-01-27T18:15:02.597362Z",
     "iopub.status.idle": "2021-01-27T18:28:49.554187Z",
     "shell.execute_reply": "2021-01-27T18:28:49.552465Z"
    },
    "papermill": {
     "duration": 826.99947,
     "end_time": "2021-01-27T18:28:49.554331",
     "exception": false,
     "start_time": "2021-01-27T18:15:02.554861",
     "status": "completed"
    },
    "tags": []
   },
   "outputs": [
    {
     "name": "stderr",
     "output_type": "stream",
     "text": [
      "100%|██████████| 5/5 [13:46<00:00, 165.38s/it]\n"
     ]
    }
   ],
   "source": [
    "# choose the best parameters for CountVectorizer\n",
    "\n",
    "ngram_range = [1, 2, 3, 4, 5]\n",
    "max_feat_range = [50000, 70000, 80000, 90000, 100000, 110000]\n",
    "\n",
    "# create a DataFrame that will contain average score of cross-validation \n",
    "# with different parameters of the vectorizer\n",
    "count_vectorizer_grid = pd.DataFrame(\n",
    "    index=['(1, {})'.format(i) for i in ngram_range],\n",
    "    columns=max_feat_range)\n",
    "\n",
    "for i in tqdm(ngram_range):\n",
    "    index = '(1, {})'.format(i)\n",
    "    \n",
    "    for col in max_feat_range:\n",
    "        count_vect = CountVectorizer(ngram_range=(1, i), max_features=col)\n",
    "        X_train_count = count_vect.fit_transform(train_sessions_ids)\n",
    "        scores = get_cv_scores(X_train_count, y_train)\n",
    "        \n",
    "        count_vectorizer_grid.loc[index, col] = scores.mean()"
   ]
  },
  {
   "cell_type": "code",
   "execution_count": 14,
   "metadata": {
    "execution": {
     "iopub.execute_input": "2021-01-27T18:28:49.656063Z",
     "iopub.status.busy": "2021-01-27T18:28:49.655356Z",
     "iopub.status.idle": "2021-01-27T18:28:50.325851Z",
     "shell.execute_reply": "2021-01-27T18:28:50.324696Z"
    },
    "papermill": {
     "duration": 0.725816,
     "end_time": "2021-01-27T18:28:50.325995",
     "exception": false,
     "start_time": "2021-01-27T18:28:49.600179",
     "status": "completed"
    },
    "tags": []
   },
   "outputs": [
    {
     "data": {
      "image/png": "[encoded data removed]",
      "text/plain": [
       "<Figure size 432x288 with 2 Axes>"
      ]
     },
     "metadata": {
      "needs_background": "light"
     },
     "output_type": "display_data"
    }
   ],
   "source": [
    "# visualize CountVectorizer scores depending on ngram_range and max_features parameters\n",
    "sns.heatmap(count_vectorizer_grid.astype('float'),\n",
    "            cmap='YlGnBu', annot=True, fmt='.5g');\n",
    "plt.savefig('CountVectorizer_scores_splits5.png', dpi=400)"
   ]
  },
  {
   "cell_type": "code",
   "execution_count": 15,
   "metadata": {
    "execution": {
     "iopub.execute_input": "2021-01-27T18:28:50.754074Z",
     "iopub.status.busy": "2021-01-27T18:28:50.743281Z",
     "iopub.status.idle": "2021-01-27T18:29:05.165926Z",
     "shell.execute_reply": "2021-01-27T18:29:05.165037Z"
    },
    "papermill": {
     "duration": 14.796101,
     "end_time": "2021-01-27T18:29:05.166079",
     "exception": false,
     "start_time": "2021-01-27T18:28:50.369978",
     "status": "completed"
    },
    "tags": []
   },
   "outputs": [],
   "source": [
    "# fit a logistic regression model using CountVectorizer with the best parameters\n",
    "count_vect = TfidfVectorizer(ngram_range=(1, 2), max_features=90000)\n",
    "X_train_count = count_vect.fit_transform(train_sessions_ids)\n",
    "X_test_count = count_vect.transform(test_sessions_ids)\n",
    "\n",
    "logit = LogisticRegression(C=1, solver='liblinear', random_state=SEED)\n",
    "predict_and_submit(logit, X_train=X_train_count, y_train=y_train,\n",
    "                   X_test=X_test_count, filename='submission1.csv')\n",
    "\n",
    "# public score = 0.91763 (cross-validation score = 0.83665)"
   ]
  },
  {
   "cell_type": "markdown",
   "metadata": {
    "papermill": {
     "duration": 0.043788,
     "end_time": "2021-01-27T18:29:05.254641",
     "exception": false,
     "start_time": "2021-01-27T18:29:05.210853",
     "status": "completed"
    },
    "tags": []
   },
   "source": [
    "### TfidfVectorizer"
   ]
  },
  {
   "cell_type": "code",
   "execution_count": 16,
   "metadata": {
    "execution": {
     "iopub.execute_input": "2021-01-27T18:29:05.364633Z",
     "iopub.status.busy": "2021-01-27T18:29:05.359217Z",
     "iopub.status.idle": "2021-01-27T18:29:10.283967Z",
     "shell.execute_reply": "2021-01-27T18:29:10.284531Z"
    },
    "papermill": {
     "duration": 4.985694,
     "end_time": "2021-01-27T18:29:10.284726",
     "exception": false,
     "start_time": "2021-01-27T18:29:05.299032",
     "status": "completed"
    },
    "tags": []
   },
   "outputs": [],
   "source": [
    "# transform sessions rows to strings containing site names separated by space\n",
    "train_sessions_sites = train_data[sites].apply(\n",
    "    lambda row: ' '.join([sites_decoder[i] for i in row if i != 0]),\n",
    "    axis=1).to_list()\n",
    "test_sessions_sites = test_data[sites].apply(\n",
    "    lambda row: ' '.join([sites_decoder[i] for i in row if i != 0]), \n",
    "    axis=1).to_list()"
   ]
  },
  {
   "cell_type": "code",
   "execution_count": 17,
   "metadata": {
    "execution": {
     "iopub.execute_input": "2021-01-27T18:29:10.396314Z",
     "iopub.status.busy": "2021-01-27T18:29:10.390830Z",
     "iopub.status.idle": "2021-01-27T18:39:04.577568Z",
     "shell.execute_reply": "2021-01-27T18:39:04.576121Z"
    },
    "papermill": {
     "duration": 594.244423,
     "end_time": "2021-01-27T18:39:04.577694",
     "exception": false,
     "start_time": "2021-01-27T18:29:10.333271",
     "status": "completed"
    },
    "tags": []
   },
   "outputs": [
    {
     "name": "stderr",
     "output_type": "stream",
     "text": [
      "100%|██████████| 5/5 [09:54<00:00, 118.83s/it]\n"
     ]
    }
   ],
   "source": [
    "# choose the best parameters for TfidfVectorizer\n",
    "\n",
    "ngram_range = [2, 3, 4, 5, 6]\n",
    "max_feat_range = [30000, 40000, 50000, 60000, 80000]\n",
    "\n",
    "# create a DataFrame that will contain average score of cross-validation \n",
    "# with different parameters of the vectorizer\n",
    "tfidf_vectorizer_grid = pd.DataFrame(\n",
    "    index=['(1, {})'.format(i) for i in ngram_range],\n",
    "    columns=max_feat_range)\n",
    "\n",
    "for i in tqdm(ngram_range):\n",
    "    index = '(1, {})'.format(i)\n",
    "    \n",
    "    for col in max_feat_range:\n",
    "        vectorizer_params={'ngram_range': (1, i), \n",
    "                           'max_features': col,\n",
    "                           'tokenizer': lambda s: s.split()}\n",
    "        tfidf_vect = TfidfVectorizer(**vectorizer_params)\n",
    "        X_train_tfidf = tfidf_vect.fit_transform(train_sessions_sites)\n",
    "        scores = get_cv_scores(X_train_tfidf, y_train)\n",
    "        \n",
    "        tfidf_vectorizer_grid.loc[index, col] = scores.mean()"
   ]
  },
  {
   "cell_type": "code",
   "execution_count": 18,
   "metadata": {
    "execution": {
     "iopub.execute_input": "2021-01-27T18:39:04.679514Z",
     "iopub.status.busy": "2021-01-27T18:39:04.678813Z",
     "iopub.status.idle": "2021-01-27T18:39:05.259022Z",
     "shell.execute_reply": "2021-01-27T18:39:05.258327Z"
    },
    "papermill": {
     "duration": 0.634746,
     "end_time": "2021-01-27T18:39:05.259155",
     "exception": false,
     "start_time": "2021-01-27T18:39:04.624409",
     "status": "completed"
    },
    "tags": []
   },
   "outputs": [
    {
     "data": {
      "image/png": "[encoded data removed]",
      "text/plain": [
       "<Figure size 432x288 with 2 Axes>"
      ]
     },
     "metadata": {
      "needs_background": "light"
     },
     "output_type": "display_data"
    }
   ],
   "source": [
    "# visualize TfidfVectorizer scores depending on ngram_range and max_features parameters\n",
    "sns.heatmap(tfidf_vectorizer_grid.astype('float'),\n",
    "            cmap='YlGnBu', annot=True, fmt='.5g');\n",
    "plt.savefig('TfidfVectorizer_scores_splits5.png', dpi=400)"
   ]
  },
  {
   "cell_type": "code",
   "execution_count": 19,
   "metadata": {
    "execution": {
     "iopub.execute_input": "2021-01-27T18:39:05.929720Z",
     "iopub.status.busy": "2021-01-27T18:39:05.903485Z",
     "iopub.status.idle": "2021-01-27T18:39:32.573015Z",
     "shell.execute_reply": "2021-01-27T18:39:32.573605Z"
    },
    "papermill": {
     "duration": 27.266176,
     "end_time": "2021-01-27T18:39:32.573773",
     "exception": false,
     "start_time": "2021-01-27T18:39:05.307597",
     "status": "completed"
    },
    "tags": []
   },
   "outputs": [],
   "source": [
    "# fit a logistic regression model using TfidfVectorizer with the best parameters\n",
    "vectorizer_params={'ngram_range': (1, 4), \n",
    "                   'max_features': 30000,\n",
    "                   'tokenizer': lambda s: s.split()}\n",
    "tfidf_vect = TfidfVectorizer(**vectorizer_params)\n",
    "X_train_tfidf = tfidf_vect.fit_transform(train_sessions_sites)\n",
    "X_test_tfidf = tfidf_vect.transform(test_sessions_sites)\n",
    "\n",
    "logit = LogisticRegression(C=1, solver='liblinear', random_state=SEED)\n",
    "predict_and_submit(logit, X_train=X_train_tfidf, y_train=y_train,\n",
    "                   X_test=X_test_tfidf, filename='submission2.csv')\n",
    "\n",
    "# public score = 0.92149 (cross-validation score = 0.84201)"
   ]
  },
  {
   "cell_type": "markdown",
   "metadata": {
    "papermill": {
     "duration": 0.04804,
     "end_time": "2021-01-27T18:39:32.670123",
     "exception": false,
     "start_time": "2021-01-27T18:39:32.622083",
     "status": "completed"
    },
    "tags": []
   },
   "source": [
    "Site features were extracted in two ways: using CountVectorizer and TfidfVectorizer models.\n",
    "Average cross-validation score with CountVectorizer is 0.837; with TfidfVectorizer this number is 0.842.\n",
    "Public score on test data are 0.91763 and 0.92149 for CountVectorizer and TfidfVectorizer correspondingly.\n",
    "Therefore, we prefer TfidfVectorizer with the best score on cross-validation and test data."
   ]
  },
  {
   "cell_type": "markdown",
   "metadata": {
    "papermill": {
     "duration": 0.048833,
     "end_time": "2021-01-27T18:39:32.768903",
     "exception": false,
     "start_time": "2021-01-27T18:39:32.720070",
     "status": "completed"
    },
    "tags": []
   },
   "source": [
    "### Other site features"
   ]
  },
  {
   "cell_type": "code",
   "execution_count": 20,
   "metadata": {
    "execution": {
     "iopub.execute_input": "2021-01-27T18:39:32.875930Z",
     "iopub.status.busy": "2021-01-27T18:39:32.875109Z",
     "iopub.status.idle": "2021-01-27T18:39:32.877220Z",
     "shell.execute_reply": "2021-01-27T18:39:32.877683Z"
    },
    "papermill": {
     "duration": 0.059583,
     "end_time": "2021-01-27T18:39:32.877847",
     "exception": false,
     "start_time": "2021-01-27T18:39:32.818264",
     "status": "completed"
    },
    "tags": []
   },
   "outputs": [],
   "source": [
    "def concatenate_features(X_sparse, X_added, scaler=None, to_scale=[]):\n",
    "    \n",
    "    X_added_unscaled = X_added[set(X_added.columns) - set(to_scale)]\n",
    "    X = csr_matrix(hstack([X_sparse, X_added_unscaled]))\n",
    "    \n",
    "    if to_scale:\n",
    "        if scaler is None:\n",
    "            scaler = StandardScaler()\n",
    "            scaler.fit(X_added[to_scale])\n",
    "        X_added_scaled = scaler.transform(X_added[to_scale])\n",
    "        X = csr_matrix(hstack([X, X_added_scaled]))\n",
    "    \n",
    "    return X, scaler"
   ]
  },
  {
   "cell_type": "code",
   "execution_count": 21,
   "metadata": {
    "execution": {
     "iopub.execute_input": "2021-01-27T18:39:32.979886Z",
     "iopub.status.busy": "2021-01-27T18:39:32.979207Z",
     "iopub.status.idle": "2021-01-27T18:39:34.345258Z",
     "shell.execute_reply": "2021-01-27T18:39:34.344650Z"
    },
    "papermill": {
     "duration": 1.418533,
     "end_time": "2021-01-27T18:39:34.345375",
     "exception": false,
     "start_time": "2021-01-27T18:39:32.926842",
     "status": "completed"
    },
    "tags": []
   },
   "outputs": [],
   "source": [
    "train_sites = train_data[sites]\n",
    "test_sites = test_data[sites]\n",
    "for site in sites:\n",
    "    train_sites[site] = train_sites[site].apply(lambda x: sites_decoder[x])\n",
    "    test_sites[site] = test_sites[site].apply(lambda x: sites_decoder[x])"
   ]
  },
  {
   "cell_type": "code",
   "execution_count": 22,
   "metadata": {
    "execution": {
     "iopub.execute_input": "2021-01-27T18:39:34.450766Z",
     "iopub.status.busy": "2021-01-27T18:39:34.450087Z",
     "iopub.status.idle": "2021-01-27T18:39:34.657070Z",
     "shell.execute_reply": "2021-01-27T18:39:34.657665Z"
    },
    "papermill": {
     "duration": 0.263711,
     "end_time": "2021-01-27T18:39:34.657834",
     "exception": false,
     "start_time": "2021-01-27T18:39:34.394123",
     "status": "completed"
    },
    "tags": []
   },
   "outputs": [
    {
     "data": {
      "image/png": "[encoded data removed]",
      "text/plain": [
       "<Figure size 864x288 with 1 Axes>"
      ]
     },
     "metadata": {
      "needs_background": "light"
     },
     "output_type": "display_data"
    }
   ],
   "source": [
    "# calculate frequency for each site in Alice's sessions\n",
    "alice_freq = pd.Series(train_sites.loc[alice_idx].values.flatten()\n",
    "                      ).value_counts()\n",
    "alice_freq_dict = {}\n",
    "for site in alice_freq.index:\n",
    "    alice_freq_dict[site] = alice_freq[site]\n",
    "\n",
    "_, axes = plt.subplots(figsize=(12, 4))\n",
    "axes.plot(list(alice_freq_dict.values())[:100])\n",
    "axes.set_xlabel(\"Top-N Alice's sites\")\n",
    "axes.set_ylabel('Frequencies');"
   ]
  },
  {
   "cell_type": "code",
   "execution_count": 23,
   "metadata": {
    "execution": {
     "iopub.execute_input": "2021-01-27T18:39:34.766242Z",
     "iopub.status.busy": "2021-01-27T18:39:34.765460Z",
     "iopub.status.idle": "2021-01-27T18:39:34.768379Z",
     "shell.execute_reply": "2021-01-27T18:39:34.768856Z"
    },
    "papermill": {
     "duration": 0.061356,
     "end_time": "2021-01-27T18:39:34.769009",
     "exception": false,
     "start_time": "2021-01-27T18:39:34.707653",
     "status": "completed"
    },
    "tags": []
   },
   "outputs": [],
   "source": [
    "# feature that contains 1 if frequency of at least one site in session\n",
    "# corresponds the condition (otherwise 0)\n",
    "\n",
    "def create_freq_feature(X, feature_name, condition, freq_dict):\n",
    "    \n",
    "    condition = 'freq ' + condition    # e.g. 'freq > 100'\n",
    "    X[feature_name] = X[sites].apply(\n",
    "        lambda row: [freq_dict.get(site, 0) for site in list(row)], \n",
    "        axis=1)\n",
    "    X[feature_name] = X[feature_name].apply(\n",
    "        lambda row: max([(1 if eval(condition) else 0 ) for freq in row]))"
   ]
  },
  {
   "cell_type": "code",
   "execution_count": 24,
   "metadata": {
    "execution": {
     "iopub.execute_input": "2021-01-27T18:39:34.875062Z",
     "iopub.status.busy": "2021-01-27T18:39:34.874350Z",
     "iopub.status.idle": "2021-01-27T18:40:23.218386Z",
     "shell.execute_reply": "2021-01-27T18:40:23.218924Z"
    },
    "papermill": {
     "duration": 48.400409,
     "end_time": "2021-01-27T18:40:23.219098",
     "exception": false,
     "start_time": "2021-01-27T18:39:34.818689",
     "status": "completed"
    },
    "tags": []
   },
   "outputs": [],
   "source": [
    "create_freq_feature(train_sites, 'alice_top', '> 900', alice_freq_dict)\n",
    "create_freq_feature(train_sites, 'alice_antitop', '== 1', alice_freq_dict)"
   ]
  },
  {
   "cell_type": "code",
   "execution_count": 25,
   "metadata": {
    "execution": {
     "iopub.execute_input": "2021-01-27T18:40:23.329971Z",
     "iopub.status.busy": "2021-01-27T18:40:23.328210Z",
     "iopub.status.idle": "2021-01-27T18:41:25.701446Z",
     "shell.execute_reply": "2021-01-27T18:41:25.702273Z"
    },
    "papermill": {
     "duration": 62.43309,
     "end_time": "2021-01-27T18:41:25.702430",
     "exception": false,
     "start_time": "2021-01-27T18:40:23.269340",
     "status": "completed"
    },
    "tags": []
   },
   "outputs": [],
   "source": [
    "train_sites['sites'] = train_sites[sites].apply(\n",
    "    lambda row: [site for site in list(row) if site != 'missing_value'], \n",
    "    axis=1)\n",
    "train_sites['n_sites'] = train_sites['sites'].apply(\n",
    "    lambda x: len(x))\n",
    "train_sites['n_uniq_sites'] = train_sites['sites'].apply(\n",
    "    lambda x: pd.Series(x).nunique())\n",
    "train_sites['percent_uniq_sites'] = (\n",
    "    train_sites['n_uniq_sites'] / train_sites['n_sites'])"
   ]
  },
  {
   "cell_type": "code",
   "execution_count": 26,
   "metadata": {
    "execution": {
     "iopub.execute_input": "2021-01-27T18:41:25.806397Z",
     "iopub.status.busy": "2021-01-27T18:41:25.805745Z",
     "iopub.status.idle": "2021-01-27T18:41:28.163339Z",
     "shell.execute_reply": "2021-01-27T18:41:28.162803Z"
    },
    "papermill": {
     "duration": 2.410968,
     "end_time": "2021-01-27T18:41:28.163447",
     "exception": false,
     "start_time": "2021-01-27T18:41:25.752479",
     "status": "completed"
    },
    "tags": []
   },
   "outputs": [
    {
     "data": {
      "text/plain": [
       "com              1499368\n",
       "fr                411545\n",
       "org               165500\n",
       "net               155393\n",
       "missing_value     122730\n",
       "gov                86769\n",
       "cn                 15340\n",
       "uk                 11621\n",
       "ru                  5878\n",
       "io                  5567\n",
       "dtype: int64"
      ]
     },
     "execution_count": 26,
     "metadata": {},
     "output_type": "execute_result"
    }
   ],
   "source": [
    "domains = pd.Series(train_sites[sites].values.flatten()).apply(\n",
    "    lambda x: x.split('.')[-1])\n",
    "domains.value_counts().head(10)"
   ]
  },
  {
   "cell_type": "code",
   "execution_count": 27,
   "metadata": {
    "execution": {
     "iopub.execute_input": "2021-01-27T18:41:28.273250Z",
     "iopub.status.busy": "2021-01-27T18:41:28.270356Z",
     "iopub.status.idle": "2021-01-27T18:41:32.386887Z",
     "shell.execute_reply": "2021-01-27T18:41:32.386254Z"
    },
    "papermill": {
     "duration": 4.173292,
     "end_time": "2021-01-27T18:41:32.387040",
     "exception": false,
     "start_time": "2021-01-27T18:41:28.213748",
     "status": "completed"
    },
    "tags": []
   },
   "outputs": [],
   "source": [
    "# use one-hot encoding for more frequent domains\n",
    "for domain in ['com', 'fr', 'org', 'net', 'gov', 'cn']:\n",
    "    train_sites[domain] = train_sites['sites'].apply(\n",
    "        lambda x: sum([1 for i in x if i.endswith(domain)]))"
   ]
  },
  {
   "cell_type": "code",
   "execution_count": 28,
   "metadata": {
    "execution": {
     "iopub.execute_input": "2021-01-27T18:41:32.508353Z",
     "iopub.status.busy": "2021-01-27T18:41:32.507645Z",
     "iopub.status.idle": "2021-01-27T18:41:39.498793Z",
     "shell.execute_reply": "2021-01-27T18:41:39.499269Z"
    },
    "papermill": {
     "duration": 7.055819,
     "end_time": "2021-01-27T18:41:39.499417",
     "exception": false,
     "start_time": "2021-01-27T18:41:32.443598",
     "status": "completed"
    },
    "tags": []
   },
   "outputs": [
    {
     "data": {
      "text/plain": [
       "0.8459569130735278"
      ]
     },
     "execution_count": 28,
     "metadata": {},
     "output_type": "execute_result"
    }
   ],
   "source": [
    "feats = ['alice_top', 'alice_antitop', 'percent_uniq_sites',\n",
    "         'com', 'fr', 'org', 'net', 'gov', 'cn']\n",
    "X_train_sites, _ = concatenate_features(X_train_tfidf, \n",
    "                                        train_sites[feats], \n",
    "                                        to_scale=feats)\n",
    "scores = get_cv_scores(X_train_sites, y_train, C=1)\n",
    "scores.mean()   "
   ]
  },
  {
   "cell_type": "markdown",
   "metadata": {
    "papermill": {
     "duration": 0.050912,
     "end_time": "2021-01-27T18:41:39.601876",
     "exception": false,
     "start_time": "2021-01-27T18:41:39.550964",
     "status": "completed"
    },
    "tags": []
   },
   "source": [
    "New features improve score so let's create this features on test data"
   ]
  },
  {
   "cell_type": "code",
   "execution_count": 29,
   "metadata": {
    "execution": {
     "iopub.execute_input": "2021-01-27T18:41:39.708676Z",
     "iopub.status.busy": "2021-01-27T18:41:39.707693Z",
     "iopub.status.idle": "2021-01-27T18:42:17.041377Z",
     "shell.execute_reply": "2021-01-27T18:42:17.041912Z"
    },
    "papermill": {
     "duration": 37.388571,
     "end_time": "2021-01-27T18:42:17.042079",
     "exception": false,
     "start_time": "2021-01-27T18:41:39.653508",
     "status": "completed"
    },
    "tags": []
   },
   "outputs": [
    {
     "data": {
      "text/plain": [
       "Index(['site1', 'site2', 'site3', 'site4', 'site5', 'site6', 'site7', 'site8',\n",
       "       'site9', 'site10', 'alice_top', 'alice_antitop', 'sites', 'n_sites',\n",
       "       'n_uniq_sites', 'percent_uniq_sites', 'com', 'fr', 'org', 'net', 'gov',\n",
       "       'cn'],\n",
       "      dtype='object')"
      ]
     },
     "execution_count": 29,
     "metadata": {},
     "output_type": "execute_result"
    }
   ],
   "source": [
    "# new features improve score so create this features on test data\n",
    "create_freq_feature(test_sites, 'alice_top', '> 900', alice_freq_dict)\n",
    "create_freq_feature(test_sites, 'alice_antitop', '== 1', alice_freq_dict)\n",
    "\n",
    "test_sites['sites'] = test_sites[sites].apply(\n",
    "    lambda row: [site for site in list(row) if site != 'missing_value'], \n",
    "    axis=1)\n",
    "test_sites['n_sites'] = test_sites['sites'].apply(\n",
    "    lambda x: len(x))\n",
    "test_sites['n_uniq_sites'] = test_sites['sites'].apply(\n",
    "    lambda x: pd.Series(x).nunique())\n",
    "test_sites['percent_uniq_sites'] = (\n",
    "    test_sites['n_uniq_sites'] / test_sites['n_sites'])\n",
    "\n",
    "for domain in ['com', 'fr', 'org', 'net', 'gov', 'cn']:\n",
    "    test_sites[domain] = test_sites['sites'].apply(\n",
    "        lambda x: sum([1 for i in x if i.endswith(domain)]))\n",
    "test_sites.columns"
   ]
  },
  {
   "cell_type": "code",
   "execution_count": 30,
   "metadata": {
    "execution": {
     "iopub.execute_input": "2021-01-27T18:42:17.160369Z",
     "iopub.status.busy": "2021-01-27T18:42:17.159692Z",
     "iopub.status.idle": "2021-01-27T18:42:24.605135Z",
     "shell.execute_reply": "2021-01-27T18:42:24.605689Z"
    },
    "papermill": {
     "duration": 7.512027,
     "end_time": "2021-01-27T18:42:24.605871",
     "exception": false,
     "start_time": "2021-01-27T18:42:17.093844",
     "status": "completed"
    },
    "tags": []
   },
   "outputs": [],
   "source": [
    "feats = ['alice_top', 'alice_antitop', 'percent_uniq_sites',\n",
    "         'com', 'fr', 'org', 'net', 'gov', 'cn']\n",
    "X_train_sites, scaler = concatenate_features(X_train_tfidf, \n",
    "                                             train_sites[feats], \n",
    "                                             to_scale=feats)\n",
    "X_test_sites, scaler = concatenate_features(X_test_tfidf, \n",
    "                                            test_sites[feats], \n",
    "                                            scaler=scaler, \n",
    "                                            to_scale=feats)\n",
    "logit = LogisticRegression(C=1, solver='liblinear', \n",
    "                           random_state=SEED)\n",
    "predict_and_submit(logit, X_train_sites, y_train, \n",
    "                   X_test_sites, 'submission3.csv')\n",
    "\n",
    "# public score = 0.92149 (cv_score = 0.84201) without new features\n",
    "# public score = 0.92642 (cv_score = 0.84596) with new features"
   ]
  },
  {
   "cell_type": "markdown",
   "metadata": {
    "papermill": {
     "duration": 0.051715,
     "end_time": "2021-01-27T18:42:24.758425",
     "exception": false,
     "start_time": "2021-01-27T18:42:24.706710",
     "status": "completed"
    },
    "tags": []
   },
   "source": [
    "The public score improved from 0.92149 to 92642 by adding new site features."
   ]
  },
  {
   "cell_type": "markdown",
   "metadata": {
    "papermill": {
     "duration": 0.052689,
     "end_time": "2021-01-27T18:42:24.863655",
     "exception": false,
     "start_time": "2021-01-27T18:42:24.810966",
     "status": "completed"
    },
    "tags": []
   },
   "source": [
    "## Creating time features"
   ]
  },
  {
   "cell_type": "code",
   "execution_count": 31,
   "metadata": {
    "execution": {
     "iopub.execute_input": "2021-01-27T18:42:24.982477Z",
     "iopub.status.busy": "2021-01-27T18:42:24.981696Z",
     "iopub.status.idle": "2021-01-27T18:42:31.015644Z",
     "shell.execute_reply": "2021-01-27T18:42:31.014971Z"
    },
    "papermill": {
     "duration": 6.098686,
     "end_time": "2021-01-27T18:42:31.015760",
     "exception": false,
     "start_time": "2021-01-27T18:42:24.917074",
     "status": "completed"
    },
    "tags": []
   },
   "outputs": [],
   "source": [
    "X_train_times = train_data[times]\n",
    "\n",
    "X_train_times['yyyymm'] = X_train_times['time1'].apply(\n",
    "    lambda x: 12 * (x.year - 2013) + x.month)\n",
    "X_train_times['weekday'] = X_train_times['time1'].apply(\n",
    "    lambda x: x.dayofweek)\n",
    "X_train_times['hour'] = X_train_times['time1'].apply(\n",
    "    lambda x: x.hour)"
   ]
  },
  {
   "cell_type": "code",
   "execution_count": 32,
   "metadata": {
    "execution": {
     "iopub.execute_input": "2021-01-27T18:42:31.131384Z",
     "iopub.status.busy": "2021-01-27T18:42:31.127222Z",
     "iopub.status.idle": "2021-01-27T18:42:31.406290Z",
     "shell.execute_reply": "2021-01-27T18:42:31.405617Z"
    },
    "papermill": {
     "duration": 0.338848,
     "end_time": "2021-01-27T18:42:31.406406",
     "exception": false,
     "start_time": "2021-01-27T18:42:31.067558",
     "status": "completed"
    },
    "tags": []
   },
   "outputs": [
    {
     "data": {
      "image/png": "[encoded data removed]",
      "text/plain": [
       "<Figure size 864x288 with 2 Axes>"
      ]
     },
     "metadata": {
      "needs_background": "light"
     },
     "output_type": "display_data"
    }
   ],
   "source": [
    "_, axes = plt.subplots(1, 2, figsize=(12, 4))\n",
    "sns.countplot('weekday', data=X_train_times.loc[alice_idx], \n",
    "              ax=axes[0])\n",
    "sns.countplot('weekday', data=X_train_times.loc[others_idx], \n",
    "              ax=axes[1]);"
   ]
  },
  {
   "cell_type": "code",
   "execution_count": 33,
   "metadata": {
    "execution": {
     "iopub.execute_input": "2021-01-27T18:42:31.521725Z",
     "iopub.status.busy": "2021-01-27T18:42:31.518115Z",
     "iopub.status.idle": "2021-01-27T18:42:31.688123Z",
     "shell.execute_reply": "2021-01-27T18:42:31.687466Z"
    },
    "papermill": {
     "duration": 0.228397,
     "end_time": "2021-01-27T18:42:31.688238",
     "exception": false,
     "start_time": "2021-01-27T18:42:31.459841",
     "status": "completed"
    },
    "tags": []
   },
   "outputs": [],
   "source": [
    "X_train_times['online_day'] = X_train_times['weekday'].apply(\n",
    "    lambda x: 1 if (x in {0, 1, 3, 4}) else 0)"
   ]
  },
  {
   "cell_type": "code",
   "execution_count": 34,
   "metadata": {
    "execution": {
     "iopub.execute_input": "2021-01-27T18:42:31.813208Z",
     "iopub.status.busy": "2021-01-27T18:42:31.811527Z",
     "iopub.status.idle": "2021-01-27T18:42:32.169680Z",
     "shell.execute_reply": "2021-01-27T18:42:32.169001Z"
    },
    "papermill": {
     "duration": 0.428218,
     "end_time": "2021-01-27T18:42:32.169819",
     "exception": false,
     "start_time": "2021-01-27T18:42:31.741601",
     "status": "completed"
    },
    "tags": []
   },
   "outputs": [
    {
     "data": {
      "image/png": "[encoded data removed]",
      "text/plain": [
       "<Figure size 864x288 with 2 Axes>"
      ]
     },
     "metadata": {
      "needs_background": "light"
     },
     "output_type": "display_data"
    }
   ],
   "source": [
    "_, axes = plt.subplots(1, 2, figsize=(12, 4))\n",
    "sns.countplot('hour', data=X_train_times.loc[alice_idx], \n",
    "              ax=axes[0])\n",
    "sns.countplot('hour', data=X_train_times.loc[others_idx], \n",
    "              ax=axes[1]);"
   ]
  },
  {
   "cell_type": "markdown",
   "metadata": {
    "papermill": {
     "duration": 0.053047,
     "end_time": "2021-01-27T18:42:32.276445",
     "exception": false,
     "start_time": "2021-01-27T18:42:32.223398",
     "status": "completed"
    },
    "tags": []
   },
   "source": [
    "***Let's convert the session start time to trigonometric functions. \n",
    "Let 24 hours correspond to 360 degrees. \n",
    "Then 1 hour contains 15 degrees. \n",
    "Then N hours is equal to $\\frac{15 \\cdot N \\cdot 2\\pi}{360}$ radians***"
   ]
  },
  {
   "cell_type": "code",
   "execution_count": 35,
   "metadata": {
    "execution": {
     "iopub.execute_input": "2021-01-27T18:42:32.397299Z",
     "iopub.status.busy": "2021-01-27T18:42:32.392168Z",
     "iopub.status.idle": "2021-01-27T18:42:37.652244Z",
     "shell.execute_reply": "2021-01-27T18:42:37.652806Z"
    },
    "papermill": {
     "duration": 5.322915,
     "end_time": "2021-01-27T18:42:37.653075",
     "exception": false,
     "start_time": "2021-01-27T18:42:32.330160",
     "status": "completed"
    },
    "tags": []
   },
   "outputs": [],
   "source": [
    "# convert the session start time to sin and cos functions\n",
    "\n",
    "def to_radians(hour, minute, second):\n",
    "    degrees = 15 * (hour + minute / 60 + second / 3600)\n",
    "    radians = 2 * np.pi * degrees / 360\n",
    "    return radians\n",
    "\n",
    "X_train_times['hour_sin'] = X_train_times['time1'].apply(\n",
    "    lambda x: np.sin(to_radians(x.hour, x.minute, x.second)))\n",
    "X_train_times['hour_cos'] = X_train_times['time1'].apply(\n",
    "    lambda x: np.cos(to_radians(x.hour, x.minute, x.second)))"
   ]
  },
  {
   "cell_type": "code",
   "execution_count": 36,
   "metadata": {
    "execution": {
     "iopub.execute_input": "2021-01-27T18:42:37.765223Z",
     "iopub.status.busy": "2021-01-27T18:42:37.764537Z",
     "iopub.status.idle": "2021-01-27T18:42:49.149567Z",
     "shell.execute_reply": "2021-01-27T18:42:49.148981Z"
    },
    "papermill": {
     "duration": 11.442021,
     "end_time": "2021-01-27T18:42:49.149682",
     "exception": false,
     "start_time": "2021-01-27T18:42:37.707661",
     "status": "completed"
    },
    "tags": []
   },
   "outputs": [
    {
     "data": {
      "image/png": "[encoded data removed]",
      "text/plain": [
       "<Figure size 432x432 with 1 Axes>"
      ]
     },
     "metadata": {
      "needs_background": "light"
     },
     "output_type": "display_data"
    }
   ],
   "source": [
    "plt.figure(figsize=(6, 6))\n",
    "sns.scatterplot('hour_cos', 'hour_sin', color='lightgreen', \n",
    "                s=100, label='Other users', \n",
    "                data=X_train_times.loc[others_idx])\n",
    "sns.scatterplot('hour_cos', 'hour_sin', color='yellow', \n",
    "                s=100, label='Alice', \n",
    "                data=X_train_times.loc[alice_idx])\n",
    "\n",
    "for hour in range(0, 24):\n",
    "    cos = np.cos(to_radians(hour, 0, 0))\n",
    "    sin = np.sin(to_radians(hour, 0, 0))\n",
    "    plt.scatter(cos, sin, color='black', marker = 'x', \n",
    "                linewidth=1.5,  s=200)\n",
    "    plt.annotate(str(hour), xy=(cos, sin), \n",
    "                 xytext=(cos*0.9 - 0.03, sin*0.9 - 0.02))\n",
    "    \n",
    "\n",
    "plt.scatter(0, 1, color='black', marker = 'x', s=200, \n",
    "            linewidth=1.5, label='Hour')\n",
    "plt.legend()\n",
    "plt.title('Hourly activity of Alice and other users');"
   ]
  },
  {
   "cell_type": "code",
   "execution_count": 37,
   "metadata": {
    "execution": {
     "iopub.execute_input": "2021-01-27T18:42:49.271396Z",
     "iopub.status.busy": "2021-01-27T18:42:49.270719Z",
     "iopub.status.idle": "2021-01-27T18:42:49.943449Z",
     "shell.execute_reply": "2021-01-27T18:42:49.942856Z"
    },
    "papermill": {
     "duration": 0.737684,
     "end_time": "2021-01-27T18:42:49.943558",
     "exception": false,
     "start_time": "2021-01-27T18:42:49.205874",
     "status": "completed"
    },
    "tags": []
   },
   "outputs": [],
   "source": [
    "X_train_times['morning'] = X_train_times['hour'].apply(\n",
    "    lambda x: 1 if x in {7, 8, 9, 10, 11} else 0)\n",
    "X_train_times['day'] = X_train_times['hour'].apply(\n",
    "    lambda x: 1 if x in {12, 13, 14, 15, 16, 17, 18} else 0)\n",
    "X_train_times['evening'] = X_train_times['hour'].apply(\n",
    "    lambda x: 1 if x in {19, 20, 21, 22, 23} else 0)\n",
    "X_train_times['night'] = X_train_times['hour'].apply(\n",
    "    lambda x: 1 if x in {0, 1, 2, 3, 4, 5, 6} else 0)"
   ]
  },
  {
   "cell_type": "code",
   "execution_count": 38,
   "metadata": {
    "execution": {
     "iopub.execute_input": "2021-01-27T18:42:50.065340Z",
     "iopub.status.busy": "2021-01-27T18:42:50.064580Z",
     "iopub.status.idle": "2021-01-27T18:42:54.466054Z",
     "shell.execute_reply": "2021-01-27T18:42:54.465043Z"
    },
    "papermill": {
     "duration": 4.465938,
     "end_time": "2021-01-27T18:42:54.466212",
     "exception": false,
     "start_time": "2021-01-27T18:42:50.000274",
     "status": "completed"
    },
    "tags": []
   },
   "outputs": [
    {
     "data": {
      "image/png": "[encoded data removed]",
      "text/plain": [
       "<Figure size 864x288 with 2 Axes>"
      ]
     },
     "metadata": {
      "needs_background": "light"
     },
     "output_type": "display_data"
    }
   ],
   "source": [
    "X_train_times['duration'] = (X_train_times[times].max(axis=1) \n",
    "                             - X_train_times['time1']).apply(\n",
    "                             lambda td: td.seconds)\n",
    "X_train_times['time_per_site'] = (\n",
    "    X_train_times['duration'] / train_sites['n_sites']) \n",
    "X_train_times['log_time_per_site'] = np.log(\n",
    "    X_train_times['time_per_site'] + 1) \n",
    "\n",
    "_, axes = plt.subplots(1, 2, figsize=(12, 4))\n",
    "X_train_times['time_per_site'].hist(ax=axes[0]);\n",
    "X_train_times['log_time_per_site'].hist(ax=axes[1]);"
   ]
  },
  {
   "cell_type": "code",
   "execution_count": 39,
   "metadata": {
    "execution": {
     "iopub.execute_input": "2021-01-27T18:42:54.589077Z",
     "iopub.status.busy": "2021-01-27T18:42:54.587289Z",
     "iopub.status.idle": "2021-01-27T18:42:54.608842Z",
     "shell.execute_reply": "2021-01-27T18:42:54.608272Z"
    },
    "papermill": {
     "duration": 0.085477,
     "end_time": "2021-01-27T18:42:54.608965",
     "exception": false,
     "start_time": "2021-01-27T18:42:54.523488",
     "status": "completed"
    },
    "tags": []
   },
   "outputs": [
    {
     "data": {
      "text/plain": [
       "Index(['yyyymm', 'weekday', 'hour', 'online_day', 'hour_sin', 'hour_cos',\n",
       "       'morning', 'day', 'evening', 'night', 'duration', 'time_per_site',\n",
       "       'log_time_per_site'],\n",
       "      dtype='object')"
      ]
     },
     "execution_count": 39,
     "metadata": {},
     "output_type": "execute_result"
    }
   ],
   "source": [
    "X_train_times.drop(times, axis=1, inplace=True)\n",
    "X_train_times.columns"
   ]
  },
  {
   "cell_type": "markdown",
   "metadata": {
    "papermill": {
     "duration": 0.058194,
     "end_time": "2021-01-27T18:42:54.724468",
     "exception": false,
     "start_time": "2021-01-27T18:42:54.666274",
     "status": "completed"
    },
    "tags": []
   },
   "source": [
    "## Feature selection"
   ]
  },
  {
   "cell_type": "code",
   "execution_count": 40,
   "metadata": {
    "execution": {
     "iopub.execute_input": "2021-01-27T18:42:54.858850Z",
     "iopub.status.busy": "2021-01-27T18:42:54.857541Z",
     "iopub.status.idle": "2021-01-27T18:42:54.871874Z",
     "shell.execute_reply": "2021-01-27T18:42:54.871239Z"
    },
    "papermill": {
     "duration": 0.087842,
     "end_time": "2021-01-27T18:42:54.871996",
     "exception": false,
     "start_time": "2021-01-27T18:42:54.784154",
     "status": "completed"
    },
    "tags": []
   },
   "outputs": [],
   "source": [
    "def forward_feature_selection(X_sparse, X_added, y, n_add=None, C=1):\n",
    "    \n",
    "    # DataFrame for writing results of selection\n",
    "    selection = pd.DataFrame(columns=['added', 'mean_cv_score',\n",
    "                                      'n_features', 'features'])\n",
    "    X = X_sparse.copy()\n",
    "    X_added = X_added.copy()\n",
    "    \n",
    "    # number of best features to add\n",
    "    n_add = X_added.shape[1] if (n_add is None) else n_add\n",
    "    \n",
    "    # create scaled features\n",
    "    for feat in X_added.columns:\n",
    "        X_added[feat + '_scaled'] = StandardScaler().fit_transform(\n",
    "                         X_added[feat].values.reshape(-1, 1))\n",
    "    \n",
    "    features = []\n",
    "    for i in tqdm(range(n_add)):\n",
    "        \n",
    "        # finding the best feature to add in the current iteration\n",
    "        cv_mean_results = {}\n",
    "        for feat in X_added.columns:\n",
    "            X_tmp, _ = concatenate_features(X, X_added[[feat]])\n",
    "            cv_scores = get_cv_scores(X_tmp, y, C=C)\n",
    "            cv_mean_results[cv_scores.mean()] = feat\n",
    "            \n",
    "        best_score = max(cv_mean_results)\n",
    "        best_feature = cv_mean_results[best_score]\n",
    "        features.append(best_feature)\n",
    "        X, _ = concatenate_features(X, X_added[[best_feature]])\n",
    "        \n",
    "        selection.loc[i, 'added'] = best_feature\n",
    "        selection.loc[i, 'mean_cv_score'] = best_score\n",
    "        selection.loc[i, 'n_features'] = i + 1\n",
    "        selection.loc[i, 'features'] = list(features)\n",
    "        \n",
    "        # exclude the best feature from further selection\n",
    "        X_added.drop(best_feature, axis=1, inplace=True)\n",
    "        if best_feature.endswith('_scaled'):\n",
    "            X_added.drop(best_feature[:-7], axis=1, inplace=True)\n",
    "        else:\n",
    "            X_added.drop(best_feature + '_scaled', axis=1, inplace=True)\n",
    "        \n",
    "    return selection"
   ]
  },
  {
   "cell_type": "code",
   "execution_count": 41,
   "metadata": {
    "execution": {
     "iopub.execute_input": "2021-01-27T18:42:55.022373Z",
     "iopub.status.busy": "2021-01-27T18:42:55.021655Z",
     "iopub.status.idle": "2021-01-27T18:56:12.852691Z",
     "shell.execute_reply": "2021-01-27T18:56:12.853336Z"
    },
    "papermill": {
     "duration": 797.90522,
     "end_time": "2021-01-27T18:56:12.853508",
     "exception": false,
     "start_time": "2021-01-27T18:42:54.948288",
     "status": "completed"
    },
    "tags": []
   },
   "outputs": [
    {
     "name": "stderr",
     "output_type": "stream",
     "text": [
      "100%|██████████| 9/9 [13:17<00:00, 88.64s/it]\n"
     ]
    },
    {
     "data": {
      "text/html": [
       "<div>\n",
       "<style scoped>\n",
       "    .dataframe tbody tr th:only-of-type {\n",
       "        vertical-align: middle;\n",
       "    }\n",
       "\n",
       "    .dataframe tbody tr th {\n",
       "        vertical-align: top;\n",
       "    }\n",
       "\n",
       "    .dataframe thead th {\n",
       "        text-align: right;\n",
       "    }\n",
       "</style>\n",
       "<table border=\"1\" class=\"dataframe\">\n",
       "  <thead>\n",
       "    <tr style=\"text-align: right;\">\n",
       "      <th></th>\n",
       "      <th>added</th>\n",
       "      <th>mean_cv_score</th>\n",
       "      <th>n_features</th>\n",
       "      <th>features</th>\n",
       "    </tr>\n",
       "  </thead>\n",
       "  <tbody>\n",
       "    <tr>\n",
       "      <th>0</th>\n",
       "      <td>day_scaled</td>\n",
       "      <td>0.916556</td>\n",
       "      <td>1</td>\n",
       "      <td>[day_scaled]</td>\n",
       "    </tr>\n",
       "    <tr>\n",
       "      <th>1</th>\n",
       "      <td>online_day</td>\n",
       "      <td>0.929607</td>\n",
       "      <td>2</td>\n",
       "      <td>[day_scaled, online_day]</td>\n",
       "    </tr>\n",
       "    <tr>\n",
       "      <th>2</th>\n",
       "      <td>log_time_per_site</td>\n",
       "      <td>0.931528</td>\n",
       "      <td>3</td>\n",
       "      <td>[day_scaled, online_day, log_time_per_site]</td>\n",
       "    </tr>\n",
       "    <tr>\n",
       "      <th>3</th>\n",
       "      <td>yyyymm_scaled</td>\n",
       "      <td>0.931761</td>\n",
       "      <td>4</td>\n",
       "      <td>[day_scaled, online_day, log_time_per_site, yy...</td>\n",
       "    </tr>\n",
       "    <tr>\n",
       "      <th>4</th>\n",
       "      <td>evening_scaled</td>\n",
       "      <td>0.93199</td>\n",
       "      <td>5</td>\n",
       "      <td>[day_scaled, online_day, log_time_per_site, yy...</td>\n",
       "    </tr>\n",
       "    <tr>\n",
       "      <th>5</th>\n",
       "      <td>morning_scaled</td>\n",
       "      <td>0.932001</td>\n",
       "      <td>6</td>\n",
       "      <td>[day_scaled, online_day, log_time_per_site, yy...</td>\n",
       "    </tr>\n",
       "    <tr>\n",
       "      <th>6</th>\n",
       "      <td>night_scaled</td>\n",
       "      <td>0.932003</td>\n",
       "      <td>7</td>\n",
       "      <td>[day_scaled, online_day, log_time_per_site, yy...</td>\n",
       "    </tr>\n",
       "    <tr>\n",
       "      <th>7</th>\n",
       "      <td>hour_cos_scaled</td>\n",
       "      <td>0.923695</td>\n",
       "      <td>8</td>\n",
       "      <td>[day_scaled, online_day, log_time_per_site, yy...</td>\n",
       "    </tr>\n",
       "    <tr>\n",
       "      <th>8</th>\n",
       "      <td>hour_sin</td>\n",
       "      <td>0.92357</td>\n",
       "      <td>9</td>\n",
       "      <td>[day_scaled, online_day, log_time_per_site, yy...</td>\n",
       "    </tr>\n",
       "  </tbody>\n",
       "</table>\n",
       "</div>"
      ],
      "text/plain": [
       "               added mean_cv_score n_features  \\\n",
       "0         day_scaled      0.916556          1   \n",
       "1         online_day      0.929607          2   \n",
       "2  log_time_per_site      0.931528          3   \n",
       "3      yyyymm_scaled      0.931761          4   \n",
       "4     evening_scaled       0.93199          5   \n",
       "5     morning_scaled      0.932001          6   \n",
       "6       night_scaled      0.932003          7   \n",
       "7    hour_cos_scaled      0.923695          8   \n",
       "8           hour_sin       0.92357          9   \n",
       "\n",
       "                                            features  \n",
       "0                                       [day_scaled]  \n",
       "1                           [day_scaled, online_day]  \n",
       "2        [day_scaled, online_day, log_time_per_site]  \n",
       "3  [day_scaled, online_day, log_time_per_site, yy...  \n",
       "4  [day_scaled, online_day, log_time_per_site, yy...  \n",
       "5  [day_scaled, online_day, log_time_per_site, yy...  \n",
       "6  [day_scaled, online_day, log_time_per_site, yy...  \n",
       "7  [day_scaled, online_day, log_time_per_site, yy...  \n",
       "8  [day_scaled, online_day, log_time_per_site, yy...  "
      ]
     },
     "execution_count": 41,
     "metadata": {},
     "output_type": "execute_result"
    }
   ],
   "source": [
    "feats = ['online_day', 'hour_sin', 'hour_cos', 'log_time_per_site',\n",
    "         'yyyymm', 'morning', 'day', 'evening', 'night']\n",
    "selection = forward_feature_selection(X_train_sites, X_train_times[feats], \n",
    "                                      y_train)\n",
    "selection"
   ]
  },
  {
   "cell_type": "code",
   "execution_count": 42,
   "metadata": {
    "execution": {
     "iopub.execute_input": "2021-01-27T18:56:12.985309Z",
     "iopub.status.busy": "2021-01-27T18:56:12.984529Z",
     "iopub.status.idle": "2021-01-27T18:56:12.989383Z",
     "shell.execute_reply": "2021-01-27T18:56:12.989994Z"
    },
    "papermill": {
     "duration": 0.072704,
     "end_time": "2021-01-27T18:56:12.990160",
     "exception": false,
     "start_time": "2021-01-27T18:56:12.917456",
     "status": "completed"
    },
    "tags": []
   },
   "outputs": [],
   "source": [
    "best_features = ['morning', 'day', 'evening', 'night', \n",
    "                 'yyyymm', 'log_time_per_site', 'online_day']\n",
    "to_scale = ['morning', 'day', 'evening', 'night', 'yyyymm']"
   ]
  },
  {
   "cell_type": "code",
   "execution_count": 43,
   "metadata": {
    "execution": {
     "iopub.execute_input": "2021-01-27T18:56:13.123532Z",
     "iopub.status.busy": "2021-01-27T18:56:13.122674Z",
     "iopub.status.idle": "2021-01-27T18:56:16.764480Z",
     "shell.execute_reply": "2021-01-27T18:56:16.765039Z"
    },
    "papermill": {
     "duration": 3.710207,
     "end_time": "2021-01-27T18:56:16.765216",
     "exception": false,
     "start_time": "2021-01-27T18:56:13.055009",
     "status": "completed"
    },
    "tags": []
   },
   "outputs": [],
   "source": [
    "# create new time features on test data\n",
    "X_test_times = test_data[times]\n",
    "X_test_times['yyyymm'] = X_test_times['time1'].apply(\n",
    "    lambda x: 12 * (x.year - 2013) + x.month)\n",
    "X_test_times['weekday'] = X_test_times['time1'].apply(\n",
    "    lambda x: x.dayofweek)\n",
    "X_test_times['online_day'] = X_test_times['weekday'].apply(\n",
    "    lambda x: 1 if (x in {0, 1, 3, 4}) else 0)\n",
    "\n",
    "X_test_times['hour'] = X_test_times['time1'].apply(\n",
    "    lambda x: x.hour)\n",
    "X_test_times['morning'] = X_test_times['hour'].apply(\n",
    "    lambda x: 1 if x in {7, 8, 9, 10, 11} else 0)\n",
    "X_test_times['day'] = X_test_times['hour'].apply(\n",
    "    lambda x: 1 if x in {12, 13, 14, 15, 16, 17, 18} else 0)\n",
    "X_test_times['evening'] = X_test_times['hour'].apply(\n",
    "    lambda x: 1 if x in {19, 20, 21, 22, 23} else 0)\n",
    "X_test_times['night'] = X_test_times['hour'].apply(\n",
    "    lambda x: 1 if x in {0, 1, 2, 3, 4, 5, 6} else 0)\n",
    "\n",
    "X_test_times['duration'] = (X_test_times[times].max(axis=1) \n",
    "                             - X_test_times['time1']).apply(\n",
    "                             lambda td: td.seconds)\n",
    "X_test_times['time_per_site'] = (\n",
    "    X_test_times['duration'] / test_sites['n_sites'])\n",
    "X_test_times['log_time_per_site'] = np.log(\n",
    "    X_test_times['time_per_site'] + 1)\n",
    "X_test_times.drop(times, axis=1, inplace=True)"
   ]
  },
  {
   "cell_type": "code",
   "execution_count": 44,
   "metadata": {
    "execution": {
     "iopub.execute_input": "2021-01-27T18:56:16.902000Z",
     "iopub.status.busy": "2021-01-27T18:56:16.901315Z",
     "iopub.status.idle": "2021-01-27T18:56:17.583010Z",
     "shell.execute_reply": "2021-01-27T18:56:17.583542Z"
    },
    "papermill": {
     "duration": 0.750493,
     "end_time": "2021-01-27T18:56:17.583719",
     "exception": false,
     "start_time": "2021-01-27T18:56:16.833226",
     "status": "completed"
    },
    "tags": []
   },
   "outputs": [],
   "source": [
    "# concatenate time features and site features to total DataFrames\n",
    "X_train, scaler = concatenate_features(X_train_sites, \n",
    "                                       X_train_times[best_features], \n",
    "                                       to_scale=to_scale)\n",
    "X_test, scaler = concatenate_features(X_test_sites, \n",
    "                                      X_test_times[best_features], \n",
    "                                      scaler=scaler, to_scale=to_scale)"
   ]
  },
  {
   "cell_type": "code",
   "execution_count": 45,
   "metadata": {
    "execution": {
     "iopub.execute_input": "2021-01-27T18:56:17.713648Z",
     "iopub.status.busy": "2021-01-27T18:56:17.712905Z",
     "iopub.status.idle": "2021-01-27T19:05:39.896076Z",
     "shell.execute_reply": "2021-01-27T19:05:39.895473Z"
    },
    "papermill": {
     "duration": 562.249494,
     "end_time": "2021-01-27T19:05:39.896212",
     "exception": false,
     "start_time": "2021-01-27T18:56:17.646718",
     "status": "completed"
    },
    "tags": []
   },
   "outputs": [
    {
     "name": "stdout",
     "output_type": "stream",
     "text": [
      "Fitting 5 folds for each of 40 candidates, totalling 200 fits\n"
     ]
    },
    {
     "name": "stderr",
     "output_type": "stream",
     "text": [
      "[Parallel(n_jobs=-1)]: Using backend LokyBackend with 4 concurrent workers.\n",
      "[Parallel(n_jobs=-1)]: Done  42 tasks      | elapsed:   45.8s\n",
      "[Parallel(n_jobs=-1)]: Done 192 tasks      | elapsed:  8.1min\n",
      "[Parallel(n_jobs=-1)]: Done 200 out of 200 | elapsed:  9.2min finished\n"
     ]
    },
    {
     "data": {
      "text/plain": [
       "(0.9321067177463688, {'C': 1.1937766417144369})"
      ]
     },
     "execution_count": 45,
     "metadata": {},
     "output_type": "execute_result"
    }
   ],
   "source": [
    "# find the best hyperparameters\n",
    "logit = LogisticRegression(solver='liblinear', random_state=SEED)\n",
    "params = {'C': np.logspace(-1, 2, 40)}\n",
    "grid = GridSearchCV(logit, param_grid=params, scoring='roc_auc', \n",
    "                    cv=TimeSeriesSplit(5), verbose=1, n_jobs=-1)\n",
    "grid.fit(X_train, y_train)\n",
    "\n",
    "grid.best_score_, grid.best_params_"
   ]
  },
  {
   "cell_type": "code",
   "execution_count": 46,
   "metadata": {
    "execution": {
     "iopub.execute_input": "2021-01-27T19:05:40.042419Z",
     "iopub.status.busy": "2021-01-27T19:05:40.041073Z",
     "iopub.status.idle": "2021-01-27T19:05:50.720232Z",
     "shell.execute_reply": "2021-01-27T19:05:50.719386Z"
    },
    "papermill": {
     "duration": 10.755351,
     "end_time": "2021-01-27T19:05:50.720370",
     "exception": false,
     "start_time": "2021-01-27T19:05:39.965019",
     "status": "completed"
    },
    "tags": []
   },
   "outputs": [],
   "source": [
    "# set the best hyperparameter C and get the final predictions\n",
    "logit = LogisticRegression(C=1.194, solver='liblinear', random_state=SEED)\n",
    "predict_and_submit(logit, X_train, y_train, X_test, 'submission4.csv')"
   ]
  },
  {
   "cell_type": "markdown",
   "metadata": {
    "papermill": {
     "duration": 0.065232,
     "end_time": "2021-01-27T19:05:50.850824",
     "exception": false,
     "start_time": "2021-01-27T19:05:50.785592",
     "status": "completed"
    },
    "tags": []
   },
   "source": [
    "### The final public score is 0.95709 (this is the top 9%)"
   ]
  }
 ],
 "metadata": {
  "kernelspec": {
   "display_name": "Python 3",
   "language": "python",
   "name": "python3"
  },
  "language_info": {
   "codemirror_mode": {
    "name": "ipython",
    "version": 3
   },
   "file_extension": ".py",
   "mimetype": "text/x-python",
   "name": "python",
   "nbconvert_exporter": "python",
   "pygments_lexer": "ipython3",
   "version": "3.7.6"
  },
  "papermill": {
   "duration": 3067.443836,
   "end_time": "2021-01-27T19:05:51.025071",
   "environment_variables": {},
   "exception": null,
   "input_path": "__notebook__.ipynb",
   "output_path": "__notebook__.ipynb",
   "parameters": {},
   "start_time": "2021-01-27T18:14:43.581235",
   "version": "2.1.0"
  }
 },
 "nbformat": 4,
 "nbformat_minor": 4
}
